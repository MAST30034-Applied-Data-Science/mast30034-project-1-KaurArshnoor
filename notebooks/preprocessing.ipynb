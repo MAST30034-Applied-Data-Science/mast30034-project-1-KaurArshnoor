{
 "cells": [
  {
   "cell_type": "markdown",
   "metadata": {},
   "source": [
    "# Preprocessing"
   ]
  },
  {
   "cell_type": "markdown",
   "metadata": {},
   "source": [
    "##  Preprocess weather data"
   ]
  },
  {
   "cell_type": "code",
   "execution_count": 2,
   "metadata": {},
   "outputs": [],
   "source": [
    "import pandas as pd\n",
    "import re\n",
    "import numpy as np\n",
    "import matplotlib.pyplot as plt"
   ]
  },
  {
   "cell_type": "code",
   "execution_count": 3,
   "metadata": {},
   "outputs": [
    {
     "data": {
      "text/plain": [
       "STATION    6695\n",
       "DATE       6695\n",
       "DEW        6695\n",
       "WND        6695\n",
       "TMP        6695\n",
       "dtype: int64"
      ]
     },
     "execution_count": 3,
     "metadata": {},
     "output_type": "execute_result"
    }
   ],
   "source": [
    "# read in weather csv\n",
    "weather_df = pd.read_csv('../uploaded_weather_data/weather_data.csv')\n",
    "weather_df.count()"
   ]
  },
  {
   "cell_type": "markdown",
   "metadata": {},
   "source": [
    "### Drop rows with missing weather values"
   ]
  },
  {
   "cell_type": "code",
   "execution_count": 4,
   "metadata": {},
   "outputs": [
    {
     "data": {
      "text/plain": [
       "STATION    6247\n",
       "DATE       6247\n",
       "DEW        6247\n",
       "WND        6247\n",
       "TMP        6247\n",
       "dtype: int64"
      ]
     },
     "execution_count": 4,
     "metadata": {},
     "output_type": "execute_result"
    }
   ],
   "source": [
    "# assign NA for containing missing values (+9999, 999) \n",
    "weather_df_clean = weather_df.replace(r'9999', np.NaN, regex=True)\n",
    "weather_df_clean2 = weather_df_clean.replace(r'999', np.NaN, regex=True)\n",
    "\n",
    "# drop any rows containing NaN\n",
    "weather_df_clean3 = weather_df_clean2.dropna()\n",
    "weather_df_clean3.count()"
   ]
  },
  {
   "cell_type": "code",
   "execution_count": 5,
   "metadata": {},
   "outputs": [
    {
     "data": {
      "text/html": [
       "<div>\n",
       "<style scoped>\n",
       "    .dataframe tbody tr th:only-of-type {\n",
       "        vertical-align: middle;\n",
       "    }\n",
       "\n",
       "    .dataframe tbody tr th {\n",
       "        vertical-align: top;\n",
       "    }\n",
       "\n",
       "    .dataframe thead th {\n",
       "        text-align: right;\n",
       "    }\n",
       "</style>\n",
       "<table border=\"1\" class=\"dataframe\">\n",
       "  <thead>\n",
       "    <tr style=\"text-align: right;\">\n",
       "      <th></th>\n",
       "      <th>STATION</th>\n",
       "      <th>DATE</th>\n",
       "      <th>DEW</th>\n",
       "      <th>WND</th>\n",
       "      <th>TMP</th>\n",
       "    </tr>\n",
       "  </thead>\n",
       "  <tbody>\n",
       "    <tr>\n",
       "      <th>0</th>\n",
       "      <td>74486094789</td>\n",
       "      <td>2018-10-01T00:00:00</td>\n",
       "      <td>+0150,1</td>\n",
       "      <td>180,1,N,0036,1</td>\n",
       "      <td>+0183,1</td>\n",
       "    </tr>\n",
       "    <tr>\n",
       "      <th>1</th>\n",
       "      <td>74486094789</td>\n",
       "      <td>2018-10-01T00:51:00</td>\n",
       "      <td>+0150,5</td>\n",
       "      <td>190,5,N,0041,5</td>\n",
       "      <td>+0183,5</td>\n",
       "    </tr>\n",
       "    <tr>\n",
       "      <th>2</th>\n",
       "      <td>74486094789</td>\n",
       "      <td>2018-10-01T01:51:00</td>\n",
       "      <td>+0156,5</td>\n",
       "      <td>190,5,N,0041,5</td>\n",
       "      <td>+0183,5</td>\n",
       "    </tr>\n",
       "    <tr>\n",
       "      <th>3</th>\n",
       "      <td>74486094789</td>\n",
       "      <td>2018-10-01T02:51:00</td>\n",
       "      <td>+0161,5</td>\n",
       "      <td>200,5,N,0051,5</td>\n",
       "      <td>+0189,5</td>\n",
       "    </tr>\n",
       "    <tr>\n",
       "      <th>4</th>\n",
       "      <td>74486094789</td>\n",
       "      <td>2018-10-01T03:00:00</td>\n",
       "      <td>+0161,1</td>\n",
       "      <td>200,1,N,0051,1</td>\n",
       "      <td>+0189,1</td>\n",
       "    </tr>\n",
       "  </tbody>\n",
       "</table>\n",
       "</div>"
      ],
      "text/plain": [
       "       STATION                 DATE      DEW             WND      TMP\n",
       "0  74486094789  2018-10-01T00:00:00  +0150,1  180,1,N,0036,1  +0183,1\n",
       "1  74486094789  2018-10-01T00:51:00  +0150,5  190,5,N,0041,5  +0183,5\n",
       "2  74486094789  2018-10-01T01:51:00  +0156,5  190,5,N,0041,5  +0183,5\n",
       "3  74486094789  2018-10-01T02:51:00  +0161,5  200,5,N,0051,5  +0189,5\n",
       "4  74486094789  2018-10-01T03:00:00  +0161,1  200,1,N,0051,1  +0189,1"
      ]
     },
     "execution_count": 5,
     "metadata": {},
     "output_type": "execute_result"
    }
   ],
   "source": [
    "weather_df_clean3.head()"
   ]
  },
  {
   "cell_type": "markdown",
   "metadata": {},
   "source": [
    "### Obtain important weather features"
   ]
  },
  {
   "cell_type": "code",
   "execution_count": 6,
   "metadata": {},
   "outputs": [],
   "source": [
    "# keep date and remove time\n",
    "weather_df_clean4 = weather_df_clean3.replace({'DATE': r'T.{8}'}, '', regex=True)\n",
    "\n",
    "# keep dew point and remove dew point code\n",
    "weather_df_clean5 = weather_df_clean4.replace({'DEW': r',\\d$'}, '', regex=True)\n",
    "\n",
    "# keep wind speed and remove other wind data\n",
    "weather_df_clean6 = weather_df_clean5.replace({'WND': r',\\d$'}, '', regex=True)\n",
    "weather_df_clean7 = weather_df_clean6.replace({'WND': r'.{8}'}, '', regex=True)\n",
    "\n",
    "# keep air temperature and remove air temperature code\n",
    "weather_df_final = weather_df_clean7.replace({'TMP': r',\\d$'}, '', regex=True)\n"
   ]
  },
  {
   "cell_type": "code",
   "execution_count": 7,
   "metadata": {},
   "outputs": [],
   "source": [
    "# save final weather data as parquet\n",
    "weather_df_final.to_parquet('../data/raw/weather_data.parquet')"
   ]
  },
  {
   "cell_type": "code",
   "execution_count": 8,
   "metadata": {},
   "outputs": [
    {
     "name": "stdout",
     "output_type": "stream",
     "text": [
      "22/08/20 11:43:00 WARN Utils: Your hostname, mast30034 resolves to a loopback address: 127.0.1.1; using 45.113.234.45 instead (on interface eth0)\n",
      "22/08/20 11:43:00 WARN Utils: Set SPARK_LOCAL_IP if you need to bind to another address\n"
     ]
    },
    {
     "name": "stderr",
     "output_type": "stream",
     "text": [
      "Setting default log level to \"WARN\".\n",
      "To adjust logging level use sc.setLogLevel(newLevel). For SparkR, use setLogLevel(newLevel).\n"
     ]
    },
    {
     "name": "stdout",
     "output_type": "stream",
     "text": [
      "22/08/20 11:43:00 WARN NativeCodeLoader: Unable to load native-hadoop library for your platform... using builtin-java classes where applicable\n",
      "22/08/20 11:43:01 WARN Utils: Service 'SparkUI' could not bind on port 4040. Attempting port 4041.\n",
      "22/08/20 11:43:01 WARN Utils: Service 'SparkUI' could not bind on port 4041. Attempting port 4042.\n",
      "22/08/20 11:43:01 WARN Utils: Service 'SparkUI' could not bind on port 4042. Attempting port 4043.\n"
     ]
    }
   ],
   "source": [
    "from pyspark.sql import SparkSession\n",
    "\n",
    "# Create a spark session\n",
    "spark = (\n",
    "    SparkSession.builder.appName(\"MAST30034 Tutorial 1\")\n",
    "    .config(\"spark.sql.repl.eagerEval.enabled\", True) \n",
    "    .config(\"spark.sql.parquet.cacheMetadata\", \"true\")\n",
    "    .getOrCreate()\n",
    ")"
   ]
  },
  {
   "cell_type": "markdown",
   "metadata": {},
   "source": [
    "### Generate daily weather data for 0ct-2018 to Mar-2019"
   ]
  },
  {
   "cell_type": "code",
   "execution_count": 9,
   "metadata": {},
   "outputs": [
    {
     "name": "stderr",
     "output_type": "stream",
     "text": [
      "\r",
      "[Stage 0:>                                                          (0 + 1) / 1]\r",
      "\r",
      "                                                                                \r"
     ]
    }
   ],
   "source": [
    "\n",
    "weather_sdf = spark.read.parquet('../data/raw/weather_data.parquet')\n",
    "\n",
    "# create a temporary SQL view for the DataFrame\n",
    "weather_sdf.createOrReplaceTempView('weather')\n",
    "\n",
    "daily_weather = spark.sql(\"\"\"\n",
    "SELECT \n",
    "    DATE,\n",
    "    ROUND(AVG(TMP), 4) AS average_temp,\n",
    "    ROUND(AVG(DEW), 4) AS average_dew_point,\n",
    "    ROUND(AVG(WND), 4) AS average_wind_speed\n",
    "FROM \n",
    "    weather\n",
    "GROUP BY \n",
    "    DATE\n",
    "ORDER BY \n",
    "    DATE\n",
    "\"\"\")\n",
    "\n",
    "daily_weather.write.mode('overwrite').parquet('../data/curated/daily_weather_data.parquet')"
   ]
  },
  {
   "cell_type": "markdown",
   "metadata": {},
   "source": [
    "## Preprocess yellow taxi data"
   ]
  },
  {
   "cell_type": "code",
   "execution_count": 10,
   "metadata": {},
   "outputs": [
    {
     "data": {
      "text/plain": [
       "47798251"
      ]
     },
     "execution_count": 10,
     "metadata": {},
     "output_type": "execute_result"
    }
   ],
   "source": [
    "# total number of records for yellow taxis October-2018 to March-2019\n",
    "\n",
    "taxi_sdf_all = spark.read.parquet('../data/raw/tlc_data/')\n",
    "taxi_sdf_all.count()"
   ]
  },
  {
   "cell_type": "code",
   "execution_count": 11,
   "metadata": {},
   "outputs": [
    {
     "name": "stdout",
     "output_type": "stream",
     "text": [
      "root\n",
      " |-- VendorID: long (nullable = true)\n",
      " |-- tpep_pickup_datetime: timestamp (nullable = true)\n",
      " |-- tpep_dropoff_datetime: timestamp (nullable = true)\n",
      " |-- passenger_count: double (nullable = true)\n",
      " |-- trip_distance: double (nullable = true)\n",
      " |-- RatecodeID: double (nullable = true)\n",
      " |-- store_and_fwd_flag: string (nullable = true)\n",
      " |-- PULocationID: long (nullable = true)\n",
      " |-- DOLocationID: long (nullable = true)\n",
      " |-- payment_type: long (nullable = true)\n",
      " |-- fare_amount: double (nullable = true)\n",
      " |-- extra: double (nullable = true)\n",
      " |-- mta_tax: double (nullable = true)\n",
      " |-- tip_amount: double (nullable = true)\n",
      " |-- tolls_amount: double (nullable = true)\n",
      " |-- improvement_surcharge: double (nullable = true)\n",
      " |-- total_amount: double (nullable = true)\n",
      " |-- congestion_surcharge: integer (nullable = true)\n",
      " |-- airport_fee: integer (nullable = true)\n",
      "\n"
     ]
    }
   ],
   "source": [
    "# Obtain schema\n",
    "taxi_sdf_all.printSchema()"
   ]
  },
  {
   "cell_type": "markdown",
   "metadata": {},
   "source": [
    "### Visual outlier analysis for yellow taxi data - jan 2019"
   ]
  },
  {
   "cell_type": "code",
   "execution_count": 12,
   "metadata": {},
   "outputs": [
    {
     "name": "stderr",
     "output_type": "stream",
     "text": [
      "                                                                                \r"
     ]
    }
   ],
   "source": [
    "taxi_jan_2019 = spark.read.parquet('../data/raw/tlc_data/2019-01.parquet')\n",
    "\n",
    "# sample spark dataframe and convert to pandas dataframe\n",
    "taxi_jan_2019_sample = taxi_jan_2019.sample(withReplacement=False, fraction = 0.01, seed= 6)\n",
    "jan_df = taxi_jan_2019_sample.toPandas()\n"
   ]
  },
  {
   "cell_type": "code",
   "execution_count": 13,
   "metadata": {},
   "outputs": [
    {
     "data": {
      "image/png": "[encoded data removed]",
      "text/plain": [
       "<Figure size 432x288 with 1 Axes>"
      ]
     },
     "metadata": {
      "needs_background": "light"
     },
     "output_type": "display_data"
    }
   ],
   "source": [
    "jan_df['count']=1 # to allow for counting the number of records with different passenger counts\n",
    "jan_df_grouped = jan_df.groupby(by=[\"passenger_count\"], as_index=False).sum()\n",
    "\n",
    "# bar plot of passenger counts in jan 2019\n",
    "passenger_counts = jan_df_grouped['passenger_count'].tolist()\n",
    "counts = jan_df_grouped['count'].tolist()\n",
    "\n",
    "fig = plt.figure()\n",
    "ax = fig.add_axes([0,0,1,1])\n",
    "ax.bar(passenger_counts,counts)\n",
    "plt.savefig('../plots/taxi_outliers.png')\n",
    "plt.show()"
   ]
  },
  {
   "cell_type": "markdown",
   "metadata": {},
   "source": [
    "We can see from above there are records where passenger count = 0 --> must filter these"
   ]
  },
  {
   "cell_type": "markdown",
   "metadata": {},
   "source": [
    "### Filter data, remove outliers and add date column for taxi data"
   ]
  },
  {
   "cell_type": "code",
   "execution_count": 16,
   "metadata": {},
   "outputs": [
    {
     "name": "stderr",
     "output_type": "stream",
     "text": [
      "                                                                                \r"
     ]
    },
    {
     "name": "stdout",
     "output_type": "stream",
     "text": [
      "2018-10.parquet processed\n"
     ]
    },
    {
     "name": "stderr",
     "output_type": "stream",
     "text": [
      "                                                                                \r"
     ]
    },
    {
     "name": "stdout",
     "output_type": "stream",
     "text": [
      "2018-11.parquet processed\n"
     ]
    },
    {
     "name": "stderr",
     "output_type": "stream",
     "text": [
      "                                                                                \r"
     ]
    },
    {
     "name": "stdout",
     "output_type": "stream",
     "text": [
      "2018-12.parquet processed\n"
     ]
    },
    {
     "name": "stderr",
     "output_type": "stream",
     "text": [
      "                                                                                \r"
     ]
    },
    {
     "name": "stdout",
     "output_type": "stream",
     "text": [
      "2019-01.parquet processed\n"
     ]
    },
    {
     "name": "stderr",
     "output_type": "stream",
     "text": [
      "                                                                                \r"
     ]
    },
    {
     "name": "stdout",
     "output_type": "stream",
     "text": [
      "2019-02.parquet processed\n"
     ]
    },
    {
     "name": "stderr",
     "output_type": "stream",
     "text": [
      "\r",
      "[Stage 28:======================================================> (27 + 1) / 28]\r"
     ]
    },
    {
     "name": "stdout",
     "output_type": "stream",
     "text": [
      "2019-03.parquet processed\n"
     ]
    },
    {
     "name": "stderr",
     "output_type": "stream",
     "text": [
      "\r",
      "                                                                                \r"
     ]
    }
   ],
   "source": [
    "# Filter data and remove outliers for each month \n",
    "# - where passenger count <=0 and trip distance <=0 miles or >=246.9 miles\n",
    "# only include credit card payments, and accepted locationIDS < 264\n",
    "\n",
    "from pyspark.sql import functions as F\n",
    "from pyspark.sql.functions import *\n",
    "\n",
    "required_cols = ('tpep_pickup_datetime', 'tpep_dropoff_datetime', 'passenger_count', 'trip_distance', \n",
    "                 'RatecodeID', 'PULocationID', 'DOLocationID', 'payment_type', 'tip_amount', 'total_amount')\n",
    "\n",
    "\n",
    "# filter each month separately and save data to curated data folder\n",
    "files = ['2018-10.parquet', '2018-11.parquet', '2018-12.parquet', '2019-01.parquet', \n",
    "         '2019-02.parquet', '2019-03.parquet']\n",
    "\n",
    "output_relative_dir = '../data/raw/tlc_data/' \n",
    "\n",
    "for file in files:\n",
    "    target_dir = output_relative_dir + file\n",
    "    taxi_month = spark.read.parquet(target_dir)\n",
    "    # filter and remove outliers\n",
    "    processed_month_data = taxi_month.select(*required_cols).where(\n",
    "        (F.col('passenger_count') > 0) \n",
    "        & (F.col('trip_distance') > 0)\n",
    "        & (F.col('trip_distance') < 246.9)\n",
    "        & (F.col('PULocationID') < 264)\n",
    "        & (F.col('DOLocationID') < 264)\n",
    "        & (F.col('payment_type') == 1)\n",
    "    )\n",
    "    # add pickup_date column from tpep_datetime column\n",
    "    processed_month_data1 = processed_month_data.withColumn(\"pickup_date\", to_date(col('tpep_pickup_datetime')))\n",
    "    \n",
    "    # add pickup day of week\n",
    "    processed_month_data2 = processed_month_data1.withColumn(\"day\", date_format('tpep_pickup_datetime', 'EEEE'))\n",
    "    \n",
    "    # save file\n",
    "    processed_month_data2.write.mode('overwrite').parquet(f'../data/curated/{file}')\n",
    "    print(f'{file} processed')\n",
    "    \n"
   ]
  },
  {
   "cell_type": "markdown",
   "metadata": {},
   "source": [
    "## Join daily weather to yellow taxi records"
   ]
  },
  {
   "cell_type": "code",
   "execution_count": 17,
   "metadata": {},
   "outputs": [],
   "source": [
    "import os\n",
    "\n",
    "output_relative_dir = '../data/curated/'\n",
    "target_dir = 'taxi_weather_data'\n",
    "\n",
    "# check if it exists as it makedir will raise an error if it does exist\n",
    "if not os.path.exists(output_relative_dir):\n",
    "    os.makedirs(output_relative_dir)\n",
    "    \n",
    "# check if target dir exists\n",
    "if not os.path.exists(output_relative_dir + target_dir):\n",
    "        os.makedirs(output_relative_dir + target_dir)"
   ]
  },
  {
   "cell_type": "code",
   "execution_count": 18,
   "metadata": {},
   "outputs": [
    {
     "name": "stderr",
     "output_type": "stream",
     "text": [
      "                                                                                \r"
     ]
    },
    {
     "name": "stdout",
     "output_type": "stream",
     "text": [
      "2018-10.parquet joined\n"
     ]
    },
    {
     "name": "stderr",
     "output_type": "stream",
     "text": [
      "                                                                                \r"
     ]
    },
    {
     "name": "stdout",
     "output_type": "stream",
     "text": [
      "2018-11.parquet joined\n"
     ]
    },
    {
     "name": "stderr",
     "output_type": "stream",
     "text": [
      "                                                                                \r"
     ]
    },
    {
     "name": "stdout",
     "output_type": "stream",
     "text": [
      "2018-12.parquet joined\n"
     ]
    },
    {
     "name": "stderr",
     "output_type": "stream",
     "text": [
      "                                                                                \r"
     ]
    },
    {
     "name": "stdout",
     "output_type": "stream",
     "text": [
      "2019-01.parquet joined\n"
     ]
    },
    {
     "name": "stderr",
     "output_type": "stream",
     "text": [
      "                                                                                \r"
     ]
    },
    {
     "name": "stdout",
     "output_type": "stream",
     "text": [
      "2019-02.parquet joined\n"
     ]
    },
    {
     "name": "stderr",
     "output_type": "stream",
     "text": [
      "\r",
      "[Stage 47:=====================================================>  (25 + 1) / 26]\r"
     ]
    },
    {
     "name": "stdout",
     "output_type": "stream",
     "text": [
      "2019-03.parquet joined\n"
     ]
    },
    {
     "name": "stderr",
     "output_type": "stream",
     "text": [
      "\r",
      "                                                                                \r"
     ]
    }
   ],
   "source": [
    "# join taxi data for each month to daily weather and save data to curated data folder\n",
    "files = ['2018-10.parquet', '2018-11.parquet', '2018-12.parquet', '2019-01.parquet', \n",
    "         '2019-02.parquet', '2019-03.parquet']\n",
    "\n",
    "daily_weather_sdf = spark.read.parquet('../data/curated/daily_weather_data.parquet')\n",
    "\n",
    "output_relative_dir = '../data/curated/' \n",
    "\n",
    "for file in files:\n",
    "    target_dir = output_relative_dir + file\n",
    "    taxi_month = spark.read.parquet(target_dir)\n",
    "    \n",
    "    # perform inner join by DATE for daily weather and pickup DATE for monthly taxi data\n",
    "    weather_taxi_month_data = taxi_month.join(daily_weather_sdf,\n",
    "                                              taxi_month.pickup_date == daily_weather_sdf.DATE,\n",
    "                                              \"inner\")\n",
    "    \n",
    "    # save file\n",
    "    weather_taxi_month_data.write.mode('overwrite').parquet(f'../data/curated/taxi_weather_data/{file}')\n",
    "    print(f'{file} joined')\n"
   ]
  },
  {
   "cell_type": "code",
   "execution_count": 22,
   "metadata": {},
   "outputs": [
    {
     "name": "stdout",
     "output_type": "stream",
     "text": [
      "+--------------------+---------------------+---------------+-------------+----------+------------+------------+------------+----------+------------+-----------+------+----------+------------+-----------------+------------------+\n",
      "|tpep_pickup_datetime|tpep_dropoff_datetime|passenger_count|trip_distance|RatecodeID|PULocationID|DOLocationID|payment_type|tip_amount|total_amount|pickup_date|   day|      DATE|average_temp|average_dew_point|average_wind_speed|\n",
      "+--------------------+---------------------+---------------+-------------+----------+------------+------------+------------+----------+------------+-----------+------+----------+------------+-----------------+------------------+\n",
      "| 2018-10-01 00:05:35|  2018-10-01 00:19:38|            1.0|          6.1|       1.0|          50|         244|           1|      5.05|       25.35| 2018-10-01|Monday|2018-10-01|    201.0938|         180.9375|             49.25|\n",
      "| 2018-10-01 00:19:14|  2018-10-01 00:31:54|            1.0|          2.6|       1.0|         233|         143|           1|      2.45|       14.75| 2018-10-01|Monday|2018-10-01|    201.0938|         180.9375|             49.25|\n",
      "| 2018-10-01 00:11:13|  2018-10-01 00:40:02|            1.0|        19.14|       2.0|         132|         249|           1|     11.71|       70.27| 2018-10-01|Monday|2018-10-01|    201.0938|         180.9375|             49.25|\n",
      "| 2018-10-01 00:42:46|  2018-10-01 00:57:59|            1.0|         4.31|       1.0|         249|         143|           1|      3.36|       20.16| 2018-10-01|Monday|2018-10-01|    201.0938|         180.9375|             49.25|\n",
      "| 2018-10-01 00:34:44|  2018-10-01 00:52:23|            3.0|          4.8|       1.0|         237|         116|           1|       0.5|        18.8| 2018-10-01|Monday|2018-10-01|    201.0938|         180.9375|             49.25|\n",
      "| 2018-10-01 00:27:40|  2018-10-01 00:40:35|            1.0|          3.0|       1.0|         161|          79|           1|       1.5|        14.8| 2018-10-01|Monday|2018-10-01|    201.0938|         180.9375|             49.25|\n",
      "| 2018-10-01 00:32:11|  2018-10-01 00:43:50|            1.0|          3.0|       1.0|         163|          79|           1|       2.0|        14.8| 2018-10-01|Monday|2018-10-01|    201.0938|         180.9375|             49.25|\n",
      "| 2018-10-01 00:56:04|  2018-10-01 01:06:07|            1.0|          4.2|       1.0|         164|          75|           1|      2.85|       17.15| 2018-10-01|Monday|2018-10-01|    201.0938|         180.9375|             49.25|\n",
      "| 2018-10-01 00:50:58|  2018-10-01 01:01:24|            1.0|          2.7|       1.0|          90|         237|           1|       2.0|        13.8| 2018-10-01|Monday|2018-10-01|    201.0938|         180.9375|             49.25|\n",
      "| 2018-10-01 00:22:18|  2018-10-01 00:34:50|            1.0|          3.3|       1.0|          68|         141|           1|      2.75|       16.55| 2018-10-01|Monday|2018-10-01|    201.0938|         180.9375|             49.25|\n",
      "| 2018-10-01 00:29:26|  2018-10-01 00:32:28|            1.0|          0.8|       2.0|         170|         161|           1|      11.7|       70.26| 2018-10-01|Monday|2018-10-01|    201.0938|         180.9375|             49.25|\n",
      "| 2018-10-01 00:46:37|  2018-10-01 00:51:38|            1.0|         0.84|       1.0|         234|          90|           1|      1.36|        8.16| 2018-10-01|Monday|2018-10-01|    201.0938|         180.9375|             49.25|\n",
      "| 2018-10-01 00:58:08|  2018-10-01 01:10:02|            1.0|         2.23|       1.0|         234|         163|           1|      2.36|       14.16| 2018-10-01|Monday|2018-10-01|    201.0938|         180.9375|             49.25|\n",
      "| 2018-10-01 00:12:33|  2018-10-01 00:34:16|            1.0|         5.37|       1.0|         249|          41|           1|      4.16|       24.96| 2018-10-01|Monday|2018-10-01|    201.0938|         180.9375|             49.25|\n",
      "| 2018-10-01 00:00:00|  2018-10-01 00:04:42|            1.0|          0.7|       1.0|         142|          48|           1|      1.26|        7.56| 2018-10-01|Monday|2018-10-01|    201.0938|         180.9375|             49.25|\n",
      "| 2018-10-01 00:10:02|  2018-10-01 00:26:09|            1.0|          4.6|       1.0|          48|         116|           1|       4.3|        21.6| 2018-10-01|Monday|2018-10-01|    201.0938|         180.9375|             49.25|\n",
      "| 2018-10-01 00:46:55|  2018-10-01 00:50:31|            1.0|          0.9|       1.0|         142|         237|           1|      1.25|        7.55| 2018-10-01|Monday|2018-10-01|    201.0938|         180.9375|             49.25|\n",
      "| 2018-10-01 00:03:36|  2018-10-01 00:39:26|            1.0|         19.8|       2.0|         132|         158|           1|       0.0|        52.8| 2018-10-01|Monday|2018-10-01|    201.0938|         180.9375|             49.25|\n",
      "| 2018-10-01 00:31:35|  2018-10-01 00:43:29|            1.0|         2.64|       1.0|         230|         137|           1|       1.0|        13.3| 2018-10-01|Monday|2018-10-01|    201.0938|         180.9375|             49.25|\n",
      "| 2018-10-01 00:47:39|  2018-10-01 00:54:27|            1.0|          1.8|       1.0|         170|          48|           1|      1.76|       10.56| 2018-10-01|Monday|2018-10-01|    201.0938|         180.9375|             49.25|\n",
      "+--------------------+---------------------+---------------+-------------+----------+------------+------------+------------+----------+------------+-----------+------+----------+------------+-----------------+------------------+\n",
      "only showing top 20 rows\n",
      "\n"
     ]
    }
   ],
   "source": [
    "weather_taxi_month = spark.read.parquet('../data/curated/taxi_weather_data/2018-10.parquet').show()"
   ]
  },
  {
   "cell_type": "code",
   "execution_count": null,
   "metadata": {},
   "outputs": [],
   "source": []
  }
 ],
 "metadata": {
  "kernelspec": {
   "display_name": "Python 3 (Anaconda 3)",
   "language": "python",
   "name": "python3"
  },
  "language_info": {
   "codemirror_mode": {
    "name": "ipython",
    "version": 3
   },
   "file_extension": ".py",
   "mimetype": "text/x-python",
   "name": "python",
   "nbconvert_exporter": "python",
   "pygments_lexer": "ipython3",
   "version": "3.8.2"
  }
 },
 "nbformat": 4,
 "nbformat_minor": 4
}
