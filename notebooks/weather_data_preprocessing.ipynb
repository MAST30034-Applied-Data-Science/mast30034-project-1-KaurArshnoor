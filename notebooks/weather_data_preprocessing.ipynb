{
 "cells": [
  {
   "cell_type": "markdown",
   "metadata": {},
   "source": [
    "# Pre-process weather data"
   ]
  },
  {
   "cell_type": "code",
   "execution_count": null,
   "metadata": {},
   "outputs": [],
   "source": [
    "import pandas as pd\n",
    "import re\n",
    "import numpy as np"
   ]
  },
  {
   "cell_type": "code",
   "execution_count": 80,
   "metadata": {},
   "outputs": [
    {
     "data": {
      "text/plain": [
       "STATION    6729\n",
       "DATE       6729\n",
       "DEW        6729\n",
       "WND        6729\n",
       "TMP        6729\n",
       "dtype: int64"
      ]
     },
     "execution_count": 80,
     "metadata": {},
     "output_type": "execute_result"
    }
   ],
   "source": [
    "# read in weather csv\n",
    "weather_df = pd.read_csv('../uploaded_weather_data/weather_data.csv')\n",
    "weather_df.count()"
   ]
  },
  {
   "cell_type": "markdown",
   "metadata": {},
   "source": [
    "### Drop missing values"
   ]
  },
  {
   "cell_type": "code",
   "execution_count": 81,
   "metadata": {},
   "outputs": [
    {
     "data": {
      "text/plain": [
       "STATION    6279\n",
       "DATE       6279\n",
       "DEW        6279\n",
       "WND        6279\n",
       "TMP        6279\n",
       "dtype: int64"
      ]
     },
     "execution_count": 81,
     "metadata": {},
     "output_type": "execute_result"
    }
   ],
   "source": [
    "# assign NA for containing missing values (+9999, 999) \n",
    "weather_df_clean = weather_df.replace(r'9999', np.NaN, regex=True)\n",
    "weather_df_clean2 = weather_df_clean.replace(r'999', np.NaN, regex=True)\n",
    "\n",
    "# drop any rows containing NaN\n",
    "weather_df_clean3 = weather_df_clean2.dropna()\n",
    "weather_df_clean3.count()"
   ]
  },
  {
   "cell_type": "code",
   "execution_count": 82,
   "metadata": {},
   "outputs": [
    {
     "data": {
      "text/html": [
       "<div>\n",
       "<style scoped>\n",
       "    .dataframe tbody tr th:only-of-type {\n",
       "        vertical-align: middle;\n",
       "    }\n",
       "\n",
       "    .dataframe tbody tr th {\n",
       "        vertical-align: top;\n",
       "    }\n",
       "\n",
       "    .dataframe thead th {\n",
       "        text-align: right;\n",
       "    }\n",
       "</style>\n",
       "<table border=\"1\" class=\"dataframe\">\n",
       "  <thead>\n",
       "    <tr style=\"text-align: right;\">\n",
       "      <th></th>\n",
       "      <th>STATION</th>\n",
       "      <th>DATE</th>\n",
       "      <th>DEW</th>\n",
       "      <th>WND</th>\n",
       "      <th>TMP</th>\n",
       "    </tr>\n",
       "  </thead>\n",
       "  <tbody>\n",
       "    <tr>\n",
       "      <th>0</th>\n",
       "      <td>74486094789</td>\n",
       "      <td>2018-10-01T00:00:00</td>\n",
       "      <td>+0150,1</td>\n",
       "      <td>180,1,N,0036,1</td>\n",
       "      <td>+0183,1</td>\n",
       "    </tr>\n",
       "    <tr>\n",
       "      <th>1</th>\n",
       "      <td>74486094789</td>\n",
       "      <td>2018-10-01T00:51:00</td>\n",
       "      <td>+0150,5</td>\n",
       "      <td>190,5,N,0041,5</td>\n",
       "      <td>+0183,5</td>\n",
       "    </tr>\n",
       "    <tr>\n",
       "      <th>2</th>\n",
       "      <td>74486094789</td>\n",
       "      <td>2018-10-01T01:51:00</td>\n",
       "      <td>+0156,5</td>\n",
       "      <td>190,5,N,0041,5</td>\n",
       "      <td>+0183,5</td>\n",
       "    </tr>\n",
       "    <tr>\n",
       "      <th>3</th>\n",
       "      <td>74486094789</td>\n",
       "      <td>2018-10-01T02:51:00</td>\n",
       "      <td>+0161,5</td>\n",
       "      <td>200,5,N,0051,5</td>\n",
       "      <td>+0189,5</td>\n",
       "    </tr>\n",
       "    <tr>\n",
       "      <th>4</th>\n",
       "      <td>74486094789</td>\n",
       "      <td>2018-10-01T03:00:00</td>\n",
       "      <td>+0161,1</td>\n",
       "      <td>200,1,N,0051,1</td>\n",
       "      <td>+0189,1</td>\n",
       "    </tr>\n",
       "  </tbody>\n",
       "</table>\n",
       "</div>"
      ],
      "text/plain": [
       "       STATION                 DATE      DEW             WND      TMP\n",
       "0  74486094789  2018-10-01T00:00:00  +0150,1  180,1,N,0036,1  +0183,1\n",
       "1  74486094789  2018-10-01T00:51:00  +0150,5  190,5,N,0041,5  +0183,5\n",
       "2  74486094789  2018-10-01T01:51:00  +0156,5  190,5,N,0041,5  +0183,5\n",
       "3  74486094789  2018-10-01T02:51:00  +0161,5  200,5,N,0051,5  +0189,5\n",
       "4  74486094789  2018-10-01T03:00:00  +0161,1  200,1,N,0051,1  +0189,1"
      ]
     },
     "execution_count": 82,
     "metadata": {},
     "output_type": "execute_result"
    }
   ],
   "source": [
    "weather_df_clean3.head()"
   ]
  },
  {
   "cell_type": "markdown",
   "metadata": {},
   "source": [
    "## Curate data to get important features"
   ]
  },
  {
   "cell_type": "code",
   "execution_count": 88,
   "metadata": {},
   "outputs": [],
   "source": [
    "# keep date and remove time\n",
    "weather_df_clean4 = weather_df_clean3.replace({'DATE': r'T.{8}'}, '', regex=True)\n",
    "\n",
    "# keep dew point and remove dew point code\n",
    "weather_df_clean5 = weather_df_clean4.replace({'DEW': r',\\d$'}, '', regex=True)\n",
    "\n",
    "# keep wind speed and remove other wind data\n",
    "weather_df_clean6 = weather_df_clean5.replace({'WND': r',\\d$'}, '', regex=True)\n",
    "weather_df_clean7 = weather_df_clean6.replace({'WND': r'.{8}'}, '', regex=True)\n",
    "\n",
    "\n",
    "# keep air temperature and air temperature code\n",
    "weather_df_final = weather_df_clean7.replace({'TMP': r',\\d$'}, '', regex=True)\n"
   ]
  },
  {
   "cell_type": "code",
   "execution_count": 90,
   "metadata": {},
   "outputs": [],
   "source": [
    "# save final weather data as parquet\n",
    "weather_df_final.to_parquet('../data/curated/weather_data.parquet')"
   ]
  },
  {
   "cell_type": "code",
   "execution_count": null,
   "metadata": {},
   "outputs": [],
   "source": []
  }
 ],
 "metadata": {
  "kernelspec": {
   "display_name": "Python 3 (Anaconda 3)",
   "language": "python",
   "name": "python3"
  },
  "language_info": {
   "codemirror_mode": {
    "name": "ipython",
    "version": 3
   },
   "file_extension": ".py",
   "mimetype": "text/x-python",
   "name": "python",
   "nbconvert_exporter": "python",
   "pygments_lexer": "ipython3",
   "version": "3.8.2"
  }
 },
 "nbformat": 4,
 "nbformat_minor": 4
}
