{
 "cells": [
  {
   "cell_type": "code",
   "execution_count": 43,
   "metadata": {},
   "outputs": [],
   "source": [
    "from pyspark.sql import SparkSession\n",
    "\n",
    "# Create a spark session (which will run spark jobs)\n",
    "spark = (\n",
    "    SparkSession.builder.appName(\"MAST30034 Tutorial 1\")\n",
    "    .config(\"spark.sql.repl.eagerEval.enabled\", True) \n",
    "    .config(\"spark.sql.parquet.cacheMetadata\", \"true\")\n",
    "    .getOrCreate()\n",
    ")\n"
   ]
  },
  {
   "cell_type": "code",
   "execution_count": null,
   "metadata": {},
   "outputs": [],
   "source": []
  },
  {
   "cell_type": "code",
   "execution_count": null,
   "metadata": {},
   "outputs": [],
   "source": []
  },
  {
   "cell_type": "code",
   "execution_count": null,
   "metadata": {},
   "outputs": [],
   "source": []
  },
  {
   "cell_type": "code",
   "execution_count": null,
   "metadata": {},
   "outputs": [],
   "source": []
  },
  {
   "cell_type": "code",
   "execution_count": null,
   "metadata": {},
   "outputs": [],
   "source": []
  },
  {
   "cell_type": "code",
   "execution_count": null,
   "metadata": {},
   "outputs": [],
   "source": [
    "# convert csv files to parquet file format\n",
    "\n",
    "import pandas as pd\n",
    "\n",
    "df = pd.read_csv('../data/raw/oct.csv')\n",
    "df.to_parquet('../data/raw/oct.parquet')\n",
    "df.head()"
   ]
  },
  {
   "cell_type": "code",
   "execution_count": 41,
   "metadata": {},
   "outputs": [],
   "source": []
  },
  {
   "cell_type": "code",
   "execution_count": 42,
   "metadata": {},
   "outputs": [
    {
     "name": "stdout",
     "output_type": "stream",
     "text": [
      "-RECORD 0----------------------------------\n",
      " Date            | Tue Oct 16 2018         \n",
      " Start (ET)      | 8:00p                   \n",
      " Visitor/Neutral | Philadelphia 76ers      \n",
      " PTS_visitor     | 87                      \n",
      " Home/Neutral    | Boston Celtics          \n",
      " PTS_home        | 105                     \n",
      " Attend.         | 18624                   \n",
      " Arena           | TD Garden               \n",
      "-RECORD 1----------------------------------\n",
      " Date            | Tue Oct 16 2018         \n",
      " Start (ET)      | 10:30p                  \n",
      " Visitor/Neutral | Oklahoma City Thunder   \n",
      " PTS_visitor     | 100                     \n",
      " Home/Neutral    | Golden State Warriors   \n",
      " PTS_home        | 108                     \n",
      " Attend.         | 19596                   \n",
      " Arena           | Oracle Arena            \n",
      "-RECORD 2----------------------------------\n",
      " Date            | Wed Oct 17 2018         \n",
      " Start (ET)      | 7:00p                   \n",
      " Visitor/Neutral | Milwaukee Bucks         \n",
      " PTS_visitor     | 113                     \n",
      " Home/Neutral    | Charlotte Hornets       \n",
      " PTS_home        | 112                     \n",
      " Attend.         | 17889                   \n",
      " Arena           | Spectrum Center         \n",
      "-RECORD 3----------------------------------\n",
      " Date            | Wed Oct 17 2018         \n",
      " Start (ET)      | 7:00p                   \n",
      " Visitor/Neutral | Brooklyn Nets           \n",
      " PTS_visitor     | 100                     \n",
      " Home/Neutral    | Detroit Pistons         \n",
      " PTS_home        | 103                     \n",
      " Attend.         | 20332                   \n",
      " Arena           | Little Caesars Arena    \n",
      "-RECORD 4----------------------------------\n",
      " Date            | Wed Oct 17 2018         \n",
      " Start (ET)      | 7:00p                   \n",
      " Visitor/Neutral | Memphis Grizzlies       \n",
      " PTS_visitor     | 83                      \n",
      " Home/Neutral    | Indiana Pacers          \n",
      " PTS_home        | 111                     \n",
      " Attend.         | 17923                   \n",
      " Arena           | Bankers Life Fieldhouse \n",
      "only showing top 5 rows\n",
      "\n"
     ]
    }
   ],
   "source": [
    "# sdf = spark df = spark data frame\n",
    "\n",
    "sdf = spark.read.parquet('../data/raw/oct.parquet')\n",
    "sdf.show(5, vertical=True, truncate=100)"
   ]
  },
  {
   "cell_type": "code",
   "execution_count": null,
   "metadata": {},
   "outputs": [],
   "source": []
  },
  {
   "cell_type": "code",
   "execution_count": null,
   "metadata": {},
   "outputs": [],
   "source": []
  },
  {
   "cell_type": "code",
   "execution_count": null,
   "metadata": {},
   "outputs": [],
   "source": []
  }
 ],
 "metadata": {
  "kernelspec": {
   "display_name": "Python 3 (Anaconda 3)",
   "language": "python",
   "name": "python3"
  },
  "language_info": {
   "codemirror_mode": {
    "name": "ipython",
    "version": 3
   },
   "file_extension": ".py",
   "mimetype": "text/x-python",
   "name": "python",
   "nbconvert_exporter": "python",
   "pygments_lexer": "ipython3",
   "version": "3.8.2"
  }
 },
 "nbformat": 4,
 "nbformat_minor": 4
}
