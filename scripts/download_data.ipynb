{
 "cells": [
  {
   "cell_type": "markdown",
   "metadata": {},
   "source": [
    "## Retrieve yellow taxi data from Oct-2018 to March-2019"
   ]
  },
  {
   "cell_type": "code",
   "execution_count": 17,
   "metadata": {},
   "outputs": [],
   "source": [
    "# The following was modified from MAST30024 Tutorial 1\n",
    "from urllib.request import urlretrieve\n",
    "import os\n",
    "\n",
    "output_relative_dir = '../data/raw/'\n",
    "\n",
    "# check if it exists as it makedir will raise an error if it does exist\n",
    "if not os.path.exists(output_relative_dir):\n",
    "    os.makedirs(output_relative_dir)\n",
    "    \n",
    "# now, for each type of data set we will need, we will create the paths\n",
    "for target_dir in ('tlc_data', 'taxi_zones'): \n",
    "    if not os.path.exists(output_relative_dir + target_dir):\n",
    "        os.makedirs(output_relative_dir + target_dir)"
   ]
  },
  {
   "cell_type": "code",
   "execution_count": 18,
   "metadata": {},
   "outputs": [],
   "source": [
    "# The following was modified from MAST30024 Tutorial 1\n",
    "URL_TEMPLATE = \"https://d37ci6vzurychx.cloudfront.net/trip-data/yellow_tripdata_\"#year-month.parquet"
   ]
  },
  {
   "cell_type": "code",
   "execution_count": 19,
   "metadata": {},
   "outputs": [
    {
     "name": "stdout",
     "output_type": "stream",
     "text": [
      "Begin month 10\n",
      "Completed month 10\n",
      "Begin month 11\n",
      "Completed month 11\n",
      "Begin month 12\n",
      "Completed month 12\n"
     ]
    }
   ],
   "source": [
    "# The following was modiefied from MAST30024 Tutorial 1\n",
    "# download yellow taxi data for October, November, December 2018\n",
    "YEAR = '2018'\n",
    "MONTHS_2018 = range(10, 13)\n",
    "\n",
    "tlc_output_dir = output_relative_dir + 'tlc_data'\n",
    "\n",
    "for month in MONTHS_2018:\n",
    "    # 0-fill i.e 1 -> 01, 2 -> 02, etc\n",
    "    month = str(month).zfill(2) \n",
    "    print(f\"Begin month {month}\")\n",
    "    \n",
    "    # generate url\n",
    "    url = f'{URL_TEMPLATE}{YEAR}-{month}.parquet'\n",
    "    # generate output location and filename\n",
    "    output_dir = f\"{tlc_output_dir}/{YEAR}-{month}.parquet\"\n",
    "    # download\n",
    "    urlretrieve(url, output_dir) \n",
    "    \n",
    "    print(f\"Completed month {month}\")"
   ]
  },
  {
   "cell_type": "code",
   "execution_count": 20,
   "metadata": {},
   "outputs": [
    {
     "name": "stdout",
     "output_type": "stream",
     "text": [
      "Begin month 01\n",
      "Completed month 01\n",
      "Begin month 02\n",
      "Completed month 02\n",
      "Begin month 03\n",
      "Completed month 03\n"
     ]
    }
   ],
   "source": [
    "# The following was modified from MAST30024 Tutorial 1\n",
    "# download yellow taxi data for January, February, March 2019\n",
    "YEAR = '2019'\n",
    "MONTHS_2019 = range(1, 4)\n",
    "\n",
    "tlc_output_dir = output_relative_dir + 'tlc_data'\n",
    "\n",
    "for month in MONTHS_2019:\n",
    "    # 0-fill i.e 1 -> 01, 2 -> 02, etc\n",
    "    month = str(month).zfill(2) \n",
    "    print(f\"Begin month {month}\")\n",
    "    \n",
    "    # generate url\n",
    "    url = f'{URL_TEMPLATE}{YEAR}-{month}.parquet'\n",
    "    # generate output location and filename\n",
    "    output_dir = f\"{tlc_output_dir}/{YEAR}-{month}.parquet\"\n",
    "    # download\n",
    "    urlretrieve(url, output_dir) \n",
    "    \n",
    "    print(f\"Completed month {month}\")"
   ]
  },
  {
   "cell_type": "markdown",
   "metadata": {},
   "source": [
    "## Retrieve taxi zones data"
   ]
  },
  {
   "cell_type": "code",
   "execution_count": 22,
   "metadata": {},
   "outputs": [
    {
     "name": "stdout",
     "output_type": "stream",
     "text": [
      "Begin file taxi+_zone_lookup.csv\n",
      "Completed file taxi+_zone_lookup.csv\n",
      "Begin file taxi_zones.zip\n",
      "Completed file taxi_zones.zip\n"
     ]
    }
   ],
   "source": [
    "# Download taxi zone data\n",
    "URL_taxizone_template = 'https://d37ci6vzurychx.cloudfront.net/misc/'\n",
    "taxi_zone_files = ['taxi+_zone_lookup.csv', 'taxi_zones.zip']\n",
    "\n",
    "tlc_output_dir = output_relative_dir + 'taxi_zones'\n",
    "\n",
    "for file in taxi_zone_files:\n",
    "\n",
    "    print(f\"Begin file {file}\")\n",
    "    \n",
    "    # generate url\n",
    "    url = f'{URL_taxizone_template}{file}'\n",
    "    # generate output location and filename\n",
    "    output_dir = f\"{tlc_output_dir}/{file}\"\n",
    "    # download\n",
    "    urlretrieve(url, output_dir) \n",
    "    \n",
    "    print(f\"Completed file {file}\")"
   ]
  },
  {
   "cell_type": "code",
   "execution_count": 23,
   "metadata": {},
   "outputs": [],
   "source": [
    "# unzip the taxi_zone.zip file\n",
    "from zipfile import ZipFile\n",
    "\n",
    "with ZipFile('../data/raw/taxi_zones/taxi_zones.zip', 'r') as zip_object:\n",
    "    zip_object.extractall('../data/raw/taxi_zones/')"
   ]
  }
 ],
 "metadata": {
  "kernelspec": {
   "display_name": "Python 3 (Anaconda 3)",
   "language": "python",
   "name": "python3"
  },
  "language_info": {
   "codemirror_mode": {
    "name": "ipython",
    "version": 3
   },
   "file_extension": ".py",
   "mimetype": "text/x-python",
   "name": "python",
   "nbconvert_exporter": "python",
   "pygments_lexer": "ipython3",
   "version": "3.8.2"
  }
 },
 "nbformat": 4,
 "nbformat_minor": 4
}
